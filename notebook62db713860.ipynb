{
  "metadata": {
    "kernelspec": {
      "language": "python",
      "display_name": "Python 3",
      "name": "python3"
    },
    "language_info": {
      "pygments_lexer": "ipython3",
      "nbconvert_exporter": "python",
      "version": "3.6.4",
      "file_extension": ".py",
      "codemirror_mode": {
        "name": "ipython",
        "version": 3
      },
      "name": "python",
      "mimetype": "text/x-python"
    },
    "kaggle": {
      "accelerator": "none",
      "dataSources": [
        {
          "sourceId": 4748595,
          "sourceType": "datasetVersion",
          "datasetId": 2748003
        }
      ],
      "dockerImageVersionId": 30301,
      "isInternetEnabled": false,
      "language": "python",
      "sourceType": "notebook",
      "isGpuEnabled": false
    },
    "colab": {
      "name": "notebook62db713860",
      "provenance": [],
      "include_colab_link": true
    }
  },
  "nbformat_minor": 0,
  "nbformat": 4,
  "cells": [
    {
      "cell_type": "markdown",
      "metadata": {
        "id": "view-in-github",
        "colab_type": "text"
      },
      "source": [
        "<a href=\"https://colab.research.google.com/github/lageniaestela/12demayo/blob/master/notebook62db713860.ipynb\" target=\"_parent\"><img src=\"https://colab.research.google.com/assets/colab-badge.svg\" alt=\"Open In Colab\"/></a>"
      ]
    },
    {
      "cell_type": "markdown",
      "source": [
        "Hola, esta es la reproduccion en español de un ejercicio realizado por Susan Li en el blog towardsdatascience (https://towardsdatascience.com/building-a-logistic-regression-in-python-step-by-step-becd4d56c9c8)<br>\n",
        "El post se publicó originalmente en 2017, y algunos de los algoritmos han tenido actualizaciones, pero creo que lo más significativo es que, pese a haber seguido los pasos, he obtenido un resultado mucho mejor (mayor accuracy, una matriz de confusion con menos predicciones incorrectas y mejores métricas) que el post original.<br>\n",
        "Por favor, deja tus comentarios"
      ],
      "metadata": {
        "id": "9YorSl2ysXYq"
      }
    },
    {
      "cell_type": "code",
      "source": [
        "import numpy as np # linear algebra\n",
        "import pandas as pd # data processing, CSV file I/O (e.g. pd.read_csv)\n",
        "import os\n",
        "for dirname, _, filenames in os.walk('/kaggle/input'):\n",
        "    for filename in filenames:\n",
        "        print(os.path.join(dirname, filename))\n",
        "#como hay varias variables que son float, vamos a ajustar a 2 el número de decimales que se muestran por defecto\n",
        "pd.set_option('display.float_format', lambda x: '%.2f' % x)\n",
        "print('número de decimales ajustado a dos decimales.')"
      ],
      "metadata": {
        "_uuid": "8f2839f25d086af736a60e9eeb907d3b93b6e0e5",
        "_cell_guid": "b1076dfc-b9ad-4769-8c92-a6c4dae69d19",
        "execution": {
          "iopub.status.busy": "2022-12-22T11:46:19.663756Z",
          "iopub.execute_input": "2022-12-22T11:46:19.664185Z",
          "iopub.status.idle": "2022-12-22T11:46:19.678155Z",
          "shell.execute_reply.started": "2022-12-22T11:46:19.664152Z",
          "shell.execute_reply": "2022-12-22T11:46:19.677221Z"
        },
        "trusted": true,
        "id": "ATyJYUA5sXYy"
      },
      "outputs": [],
      "execution_count": null
    },
    {
      "cell_type": "markdown",
      "source": [
        "La regresion logisitica es un algoritmo de clasificacion de Machine Learning que se usa para predecir la probabilidad de que una variable dependiente caiga en una u otra categoria, generalmente binaria Sí/No. <br>\n",
        "Expresado en notación matemática, la regresion logistica te da la probabilidad P de que la variable Y, que es función de X, sea Sí <br>\n",
        "P(Y=1)\n",
        "\n",
        "# Requisitos de la Regresion logística.\n",
        "* la variable dependiente debe ser binaria\n",
        "* el valor 1 de la regresion debe representar el valor deseado.\n",
        "* sólo se debe entrenar el modelo con variables independientes significativas.\n",
        "* las variables independientes deben ser independientes entre si. Correlaciones bajas muestran poca colinealidad.\n",
        "* las variables independientes deben ser directamente proporcionales a los ¿registros de probabilidad?\n",
        "* Se necesitan muestras de tamaño considerable"
      ],
      "metadata": {
        "id": "crWzoY_NsXY0"
      }
    },
    {
      "cell_type": "markdown",
      "source": [
        "# Data\n",
        "El conjutno de datos viene del repositorio UCI Machine Repository, y contiene los datos de una campaña de marketing de un banco portugues. <br>\n",
        "El objetivo de la clasificacion es predecir si el cliente se suscribirá a un producto financiero que se le ofrece. 1: si se suscribe, 0:no se suscribe.<br>\n",
        "Para usar los datos, los he descargado en formato csv y los he subido a kaggle como un dataset. Ahora, en la derecha,le damos a Añadir data."
      ],
      "metadata": {
        "id": "vJ1qGtTJsXY0"
      }
    },
    {
      "cell_type": "code",
      "source": [
        "# Importo los datos con una funcion de pandas que es read_csv.\n",
        "# el archivo está dentro de input, y dentro de input, en banco.\n",
        "# header = 0 es el valor por defecto, y significa que la primera fila,\n",
        "# que es la fila 0, es la que contiene los encabecados.\n",
        "data = pd.read_csv('/kaggle/input/banco/banco.csv', header = 0)\n"
      ],
      "metadata": {
        "execution": {
          "iopub.status.busy": "2022-12-22T11:46:19.67974Z",
          "iopub.execute_input": "2022-12-22T11:46:19.680456Z",
          "iopub.status.idle": "2022-12-22T11:46:19.780637Z",
          "shell.execute_reply.started": "2022-12-22T11:46:19.680421Z",
          "shell.execute_reply": "2022-12-22T11:46:19.779269Z"
        },
        "trusted": true,
        "id": "v9scH-bTsXY1"
      },
      "outputs": [],
      "execution_count": null
    },
    {
      "cell_type": "code",
      "source": [
        "#la funcion .shape nos informa del número de filas y de columnas\n",
        "data_n_filas = data.shape[0]\n",
        "data_n_columnas = data.shape[1]\n",
        "print('El conjunto de datos tiene',data_n_columnas, 'columnas y',data_n_filas,'filas' )"
      ],
      "metadata": {
        "execution": {
          "iopub.status.busy": "2022-12-22T11:46:19.782734Z",
          "iopub.execute_input": "2022-12-22T11:46:19.783156Z",
          "iopub.status.idle": "2022-12-22T11:46:19.790094Z",
          "shell.execute_reply.started": "2022-12-22T11:46:19.783118Z",
          "shell.execute_reply": "2022-12-22T11:46:19.788637Z"
        },
        "trusted": true,
        "id": "yG0fBT9VsXY2"
      },
      "outputs": [],
      "execution_count": null
    },
    {
      "cell_type": "code",
      "source": [
        "#vamos a ver cuantos valores perdidos hay\n",
        "# aprovecho para sacar una copia de los datos, para evitar tampering.\n",
        "data2=data.dropna()\n",
        "data2_n_columnas = data.shape[0]\n",
        "data2_n_filas = data.shape[1]\n",
        "print('El conjunto de datos depurado tiene',data_n_columnas-data2_n_columnas, 'columnas menos y',data_n_filas -data2_n_filas,'filas' )"
      ],
      "metadata": {
        "execution": {
          "iopub.status.busy": "2022-12-22T11:46:19.791581Z",
          "iopub.execute_input": "2022-12-22T11:46:19.79194Z",
          "iopub.status.idle": "2022-12-22T11:46:19.837715Z",
          "shell.execute_reply.started": "2022-12-22T11:46:19.791896Z",
          "shell.execute_reply": "2022-12-22T11:46:19.836367Z"
        },
        "trusted": true,
        "id": "bj62G_rRsXY2"
      },
      "outputs": [],
      "execution_count": null
    },
    {
      "cell_type": "code",
      "source": [
        "# vamos a analizar las variables independientes:\n",
        "print(list(data2.columns))"
      ],
      "metadata": {
        "execution": {
          "iopub.status.busy": "2022-12-22T11:46:19.841233Z",
          "iopub.execute_input": "2022-12-22T11:46:19.841672Z",
          "iopub.status.idle": "2022-12-22T11:46:19.847146Z",
          "shell.execute_reply.started": "2022-12-22T11:46:19.841627Z",
          "shell.execute_reply": "2022-12-22T11:46:19.845994Z"
        },
        "trusted": true,
        "id": "M0G_IGYNsXY4"
      },
      "outputs": [],
      "execution_count": null
    },
    {
      "cell_type": "code",
      "source": [
        "def analiza(columna, dataset):\n",
        "    #primero me va a informar de los datos nulos de la columna estudiada\n",
        "    # isnull() nos dice si hay valores perdidos. Devuelve True o False\n",
        "    # sum() nos da la suma de determinados valores.\n",
        "    print('Esta columna tiene:',dataset[columna].isnull().sum(),'datos nulos')\n",
        "    print('+++++')\n",
        "\n",
        "    # luego me va a dar unos datos exploratorios.\n",
        "    print(dataset[columna].describe())\n",
        "    print('+++++')\n",
        "\n",
        "    # y por ultimo, quiero que me diga las categorias\n",
        "    #print(pd.value_counts(dataset[columna]))\n",
        "    print(pd.unique(dataset[columna]))"
      ],
      "metadata": {
        "execution": {
          "iopub.status.busy": "2022-12-22T12:12:42.868371Z",
          "iopub.execute_input": "2022-12-22T12:12:42.8688Z",
          "iopub.status.idle": "2022-12-22T12:12:42.87554Z",
          "shell.execute_reply.started": "2022-12-22T12:12:42.868764Z",
          "shell.execute_reply": "2022-12-22T12:12:42.874451Z"
        },
        "trusted": true,
        "id": "rEK-0zZBsXY4"
      },
      "outputs": [],
      "execution_count": null
    },
    {
      "cell_type": "code",
      "source": [
        "analiza('age',data2)"
      ],
      "metadata": {
        "execution": {
          "iopub.status.busy": "2022-12-22T12:12:45.39054Z",
          "iopub.execute_input": "2022-12-22T12:12:45.391616Z",
          "iopub.status.idle": "2022-12-22T12:12:45.403539Z",
          "shell.execute_reply.started": "2022-12-22T12:12:45.391564Z",
          "shell.execute_reply": "2022-12-22T12:12:45.402167Z"
        },
        "trusted": true,
        "id": "NoRMSUuLsXY5"
      },
      "outputs": [],
      "execution_count": null
    },
    {
      "cell_type": "markdown",
      "source": [
        "La columna age describe la edad de los encuestados, que oscila entre los 17 y los 98 años."
      ],
      "metadata": {
        "id": "xNlT5TKbsXY6"
      }
    },
    {
      "cell_type": "code",
      "source": [
        "analiza('job',data2)"
      ],
      "metadata": {
        "execution": {
          "iopub.status.busy": "2022-12-22T12:12:48.989801Z",
          "iopub.execute_input": "2022-12-22T12:12:48.990234Z",
          "iopub.status.idle": "2022-12-22T12:12:49.011838Z",
          "shell.execute_reply.started": "2022-12-22T12:12:48.990199Z",
          "shell.execute_reply": "2022-12-22T12:12:49.010444Z"
        },
        "trusted": true,
        "id": "ndPoM1r0sXY6"
      },
      "outputs": [],
      "execution_count": null
    },
    {
      "cell_type": "markdown",
      "source": [
        "job es una variable categorica con que separa los tipos de trabajos en 12 valores distintos."
      ],
      "metadata": {
        "id": "sTufR5wSsXY6"
      }
    },
    {
      "cell_type": "code",
      "source": [
        "analiza('marital',data2)"
      ],
      "metadata": {
        "execution": {
          "iopub.status.busy": "2022-12-22T11:46:19.898395Z",
          "iopub.execute_input": "2022-12-22T11:46:19.899258Z",
          "iopub.status.idle": "2022-12-22T11:46:19.916123Z",
          "shell.execute_reply.started": "2022-12-22T11:46:19.899224Z",
          "shell.execute_reply": "2022-12-22T11:46:19.915068Z"
        },
        "trusted": true,
        "id": "jLbPXsq9sXY7"
      },
      "outputs": [],
      "execution_count": null
    },
    {
      "cell_type": "markdown",
      "source": [
        "marital es el estado civil. Clasifica a los encuestados en casados, solteros, divorciados y desconocido (Es curioso que no haya viudos, teniendo en cuenta que algunos encuestados eran casi centenarios)"
      ],
      "metadata": {
        "id": "uBrvHbtlsXY8"
      }
    },
    {
      "cell_type": "code",
      "source": [
        "analiza('education',data2)"
      ],
      "metadata": {
        "execution": {
          "iopub.status.busy": "2022-12-22T11:46:19.917653Z",
          "iopub.execute_input": "2022-12-22T11:46:19.917968Z",
          "iopub.status.idle": "2022-12-22T11:46:19.938354Z",
          "shell.execute_reply.started": "2022-12-22T11:46:19.917938Z",
          "shell.execute_reply": "2022-12-22T11:46:19.937184Z"
        },
        "trusted": true,
        "id": "DQYiyumwsXY9"
      },
      "outputs": [],
      "execution_count": null
    },
    {
      "cell_type": "markdown",
      "source": [
        "education hace referencia al nivel educativo."
      ],
      "metadata": {
        "id": "1Jmj2PczsXY9"
      }
    },
    {
      "cell_type": "code",
      "source": [
        "analiza('default',data2)"
      ],
      "metadata": {
        "execution": {
          "iopub.status.busy": "2022-12-22T11:46:19.942887Z",
          "iopub.execute_input": "2022-12-22T11:46:19.94324Z",
          "iopub.status.idle": "2022-12-22T11:46:19.960848Z",
          "shell.execute_reply.started": "2022-12-22T11:46:19.943208Z",
          "shell.execute_reply": "2022-12-22T11:46:19.95953Z"
        },
        "trusted": true,
        "id": "aeCwiG2asXY-"
      },
      "outputs": [],
      "execution_count": null
    },
    {
      "cell_type": "markdown",
      "source": [
        "default es si el encuestado ha tenido algún aviso de impago."
      ],
      "metadata": {
        "id": "BzaBboLEsXY-"
      }
    },
    {
      "cell_type": "code",
      "source": [
        "analiza('housing',data2)"
      ],
      "metadata": {
        "execution": {
          "iopub.status.busy": "2022-12-22T11:46:19.962702Z",
          "iopub.execute_input": "2022-12-22T11:46:19.963046Z",
          "iopub.status.idle": "2022-12-22T11:46:19.982227Z",
          "shell.execute_reply.started": "2022-12-22T11:46:19.963014Z",
          "shell.execute_reply": "2022-12-22T11:46:19.981123Z"
        },
        "trusted": true,
        "id": "6JWOsIRDsXY-"
      },
      "outputs": [],
      "execution_count": null
    },
    {
      "cell_type": "markdown",
      "source": [
        "housing indica si el encuestado tiene vivienda en propiedad"
      ],
      "metadata": {
        "id": "e7N_1VgksXY_"
      }
    },
    {
      "cell_type": "code",
      "source": [
        "analiza('loan',data2)"
      ],
      "metadata": {
        "execution": {
          "iopub.status.busy": "2022-12-22T11:46:19.983372Z",
          "iopub.execute_input": "2022-12-22T11:46:19.983745Z",
          "iopub.status.idle": "2022-12-22T11:46:20.001681Z",
          "shell.execute_reply.started": "2022-12-22T11:46:19.983715Z",
          "shell.execute_reply": "2022-12-22T11:46:20.000365Z"
        },
        "trusted": true,
        "id": "9RJzEE1gsXY_"
      },
      "outputs": [],
      "execution_count": null
    },
    {
      "cell_type": "markdown",
      "source": [
        "loan es si el encuestado está pagando algún tipo de crédito personal"
      ],
      "metadata": {
        "id": "0gBcl6vAsXZA"
      }
    },
    {
      "cell_type": "code",
      "source": [
        "analiza('contact',data2)"
      ],
      "metadata": {
        "execution": {
          "iopub.status.busy": "2022-12-22T11:46:20.003059Z",
          "iopub.execute_input": "2022-12-22T11:46:20.003413Z",
          "iopub.status.idle": "2022-12-22T11:46:20.024855Z",
          "shell.execute_reply.started": "2022-12-22T11:46:20.003382Z",
          "shell.execute_reply": "2022-12-22T11:46:20.023834Z"
        },
        "trusted": true,
        "id": "Y48dcVZIsXZB"
      },
      "outputs": [],
      "execution_count": null
    },
    {
      "cell_type": "markdown",
      "source": [
        "contact es la forma de contacto"
      ],
      "metadata": {
        "id": "yj_CQaXjsXZC"
      }
    },
    {
      "cell_type": "code",
      "source": [
        "analiza('month',data2)"
      ],
      "metadata": {
        "execution": {
          "iopub.status.busy": "2022-12-22T11:46:20.02616Z",
          "iopub.execute_input": "2022-12-22T11:46:20.026523Z",
          "iopub.status.idle": "2022-12-22T11:46:20.045193Z",
          "shell.execute_reply.started": "2022-12-22T11:46:20.026483Z",
          "shell.execute_reply": "2022-12-22T11:46:20.044368Z"
        },
        "trusted": true,
        "id": "O71Oq19bsXZD"
      },
      "outputs": [],
      "execution_count": null
    },
    {
      "cell_type": "markdown",
      "source": [
        "month es en qué mes se le contacto por última vez"
      ],
      "metadata": {
        "id": "h_6HeP9xsXZD"
      }
    },
    {
      "cell_type": "code",
      "source": [
        "analiza('day_of_week',data2)"
      ],
      "metadata": {
        "execution": {
          "iopub.status.busy": "2022-12-22T11:46:20.046542Z",
          "iopub.execute_input": "2022-12-22T11:46:20.047104Z",
          "iopub.status.idle": "2022-12-22T11:46:20.06321Z",
          "shell.execute_reply.started": "2022-12-22T11:46:20.047057Z",
          "shell.execute_reply": "2022-12-22T11:46:20.062071Z"
        },
        "trusted": true,
        "id": "qh8weoGmsXZE"
      },
      "outputs": [],
      "execution_count": null
    },
    {
      "cell_type": "markdown",
      "source": [
        "day_of_week es en qué día de la semana se le contacto por última vez"
      ],
      "metadata": {
        "id": "pyM4AHmBsXZE"
      }
    },
    {
      "cell_type": "code",
      "source": [
        "analiza('duration',data2)"
      ],
      "metadata": {
        "execution": {
          "iopub.status.busy": "2022-12-22T11:46:20.064672Z",
          "iopub.execute_input": "2022-12-22T11:46:20.064991Z",
          "iopub.status.idle": "2022-12-22T11:46:20.079417Z",
          "shell.execute_reply.started": "2022-12-22T11:46:20.064962Z",
          "shell.execute_reply": "2022-12-22T11:46:20.078427Z"
        },
        "trusted": true,
        "id": "zqNQ-1QXsXZF"
      },
      "outputs": [],
      "execution_count": null
    },
    {
      "cell_type": "markdown",
      "source": [
        "Duracion de la llamada, en segundos. <br>\n",
        "Este es un dato peculiar:\n",
        "* si la llamada es dura 0 segundo, el resultado es No siempre.\n",
        "* La duracion de la llamada no se puede saber antes de hacerla, de modo que no se puede usar como predictor de exito. Por tanto, no se debería incluir si lo que se pretende es tener un modelo predictivo realista."
      ],
      "metadata": {
        "id": "MmDIyROqsXZF"
      }
    },
    {
      "cell_type": "code",
      "source": [
        "analiza('campaign',data2)"
      ],
      "metadata": {
        "execution": {
          "iopub.status.busy": "2022-12-22T11:46:20.080652Z",
          "iopub.execute_input": "2022-12-22T11:46:20.081359Z",
          "iopub.status.idle": "2022-12-22T11:46:20.09179Z",
          "shell.execute_reply.started": "2022-12-22T11:46:20.081325Z",
          "shell.execute_reply": "2022-12-22T11:46:20.09063Z"
        },
        "trusted": true,
        "id": "igq4QIeHsXZF"
      },
      "outputs": [],
      "execution_count": null
    },
    {
      "cell_type": "markdown",
      "source": [
        "Campaign es el número de veces que se ha contactado a este cliente en esta campaña"
      ],
      "metadata": {
        "id": "w6Fcq0TUsXZG"
      }
    },
    {
      "cell_type": "code",
      "source": [
        "analiza('pdays',data2)"
      ],
      "metadata": {
        "execution": {
          "iopub.status.busy": "2022-12-22T11:46:20.093203Z",
          "iopub.execute_input": "2022-12-22T11:46:20.093754Z",
          "iopub.status.idle": "2022-12-22T11:46:20.105417Z",
          "shell.execute_reply.started": "2022-12-22T11:46:20.09372Z",
          "shell.execute_reply": "2022-12-22T11:46:20.104061Z"
        },
        "trusted": true,
        "id": "25bzQ0ZMsXZG"
      },
      "outputs": [],
      "execution_count": null
    },
    {
      "cell_type": "markdown",
      "source": [
        "pdays son los dias pasados desde que el cliente fue contactado en una campaña anterior."
      ],
      "metadata": {
        "id": "KZHfKfKWsXZH"
      }
    },
    {
      "cell_type": "code",
      "source": [
        "analiza('previous',data2)"
      ],
      "metadata": {
        "execution": {
          "iopub.status.busy": "2022-12-22T11:46:20.107354Z",
          "iopub.execute_input": "2022-12-22T11:46:20.108056Z",
          "iopub.status.idle": "2022-12-22T11:46:20.118108Z",
          "shell.execute_reply.started": "2022-12-22T11:46:20.10802Z",
          "shell.execute_reply": "2022-12-22T11:46:20.116969Z"
        },
        "trusted": true,
        "id": "N_aTPau_sXZH"
      },
      "outputs": [],
      "execution_count": null
    },
    {
      "cell_type": "code",
      "source": [
        "previous es el número de veces que este cliente ha sido contactado en campañas anteriores"
      ],
      "metadata": {
        "trusted": true,
        "id": "YqaEGy37sXZH"
      },
      "outputs": [],
      "execution_count": null
    },
    {
      "cell_type": "code",
      "source": [
        "analiza('poutcome',data2)"
      ],
      "metadata": {
        "execution": {
          "iopub.status.busy": "2022-12-22T11:46:20.119241Z",
          "iopub.execute_input": "2022-12-22T11:46:20.120137Z",
          "iopub.status.idle": "2022-12-22T11:46:20.136433Z",
          "shell.execute_reply.started": "2022-12-22T11:46:20.120093Z",
          "shell.execute_reply": "2022-12-22T11:46:20.135306Z"
        },
        "trusted": true,
        "id": "dXRL5xT6sXZI"
      },
      "outputs": [],
      "execution_count": null
    },
    {
      "cell_type": "markdown",
      "source": [
        "poutcome es el resultado de anteriores campañas de marketing"
      ],
      "metadata": {
        "id": "RN6vjv3xsXZI"
      }
    },
    {
      "cell_type": "code",
      "source": [
        "analiza('emp_var_rate',data2)"
      ],
      "metadata": {
        "execution": {
          "iopub.status.busy": "2022-12-22T11:46:20.137639Z",
          "iopub.execute_input": "2022-12-22T11:46:20.138751Z",
          "iopub.status.idle": "2022-12-22T11:46:20.152277Z",
          "shell.execute_reply.started": "2022-12-22T11:46:20.138715Z",
          "shell.execute_reply": "2022-12-22T11:46:20.150953Z"
        },
        "trusted": true,
        "id": "kT5ZBpdBsXZR"
      },
      "outputs": [],
      "execution_count": null
    },
    {
      "cell_type": "markdown",
      "source": [
        "tasa de variacion del empleo (?)"
      ],
      "metadata": {
        "id": "lgWWBsMVsXZS"
      }
    },
    {
      "cell_type": "code",
      "source": [
        "analiza('cons_price_idx',data2)"
      ],
      "metadata": {
        "execution": {
          "iopub.status.busy": "2022-12-22T11:46:20.153681Z",
          "iopub.execute_input": "2022-12-22T11:46:20.15426Z",
          "iopub.status.idle": "2022-12-22T11:46:20.166624Z",
          "shell.execute_reply.started": "2022-12-22T11:46:20.154227Z",
          "shell.execute_reply": "2022-12-22T11:46:20.165438Z"
        },
        "trusted": true,
        "id": "ncrIojZksXZS"
      },
      "outputs": [],
      "execution_count": null
    },
    {
      "cell_type": "markdown",
      "source": [
        "indice de precios al consumidor (??)"
      ],
      "metadata": {
        "id": "C45YKq5BsXZT"
      }
    },
    {
      "cell_type": "code",
      "source": [
        "analiza('cons_conf_idx',data2)"
      ],
      "metadata": {
        "execution": {
          "iopub.status.busy": "2022-12-22T11:46:20.167965Z",
          "iopub.execute_input": "2022-12-22T11:46:20.168497Z",
          "iopub.status.idle": "2022-12-22T11:46:20.181563Z",
          "shell.execute_reply.started": "2022-12-22T11:46:20.168465Z",
          "shell.execute_reply": "2022-12-22T11:46:20.180404Z"
        },
        "trusted": true,
        "id": "19Dr8OdEsXZT"
      },
      "outputs": [],
      "execution_count": null
    },
    {
      "cell_type": "markdown",
      "source": [
        "indice de confianza del consumidor"
      ],
      "metadata": {
        "id": "XEVHeA5qsXZT"
      }
    },
    {
      "cell_type": "code",
      "source": [
        "analiza('euribor3m',data2)"
      ],
      "metadata": {
        "execution": {
          "iopub.status.busy": "2022-12-22T11:46:20.183282Z",
          "iopub.execute_input": "2022-12-22T11:46:20.184056Z",
          "iopub.status.idle": "2022-12-22T11:46:20.19795Z",
          "shell.execute_reply.started": "2022-12-22T11:46:20.184009Z",
          "shell.execute_reply": "2022-12-22T11:46:20.197017Z"
        },
        "trusted": true,
        "id": "16-pgyBasXZT"
      },
      "outputs": [],
      "execution_count": null
    },
    {
      "cell_type": "markdown",
      "source": [
        "tasa a tres meses del euribor"
      ],
      "metadata": {
        "id": "lQyx_iCfsXZU"
      }
    },
    {
      "cell_type": "code",
      "source": [
        "analiza('nr_employed',data2)"
      ],
      "metadata": {
        "execution": {
          "iopub.status.busy": "2022-12-22T11:46:20.203107Z",
          "iopub.execute_input": "2022-12-22T11:46:20.204007Z",
          "iopub.status.idle": "2022-12-22T11:46:20.216144Z",
          "shell.execute_reply.started": "2022-12-22T11:46:20.203972Z",
          "shell.execute_reply": "2022-12-22T11:46:20.214808Z"
        },
        "trusted": true,
        "id": "aC-a9LICsXZU"
      },
      "outputs": [],
      "execution_count": null
    },
    {
      "cell_type": "markdown",
      "source": [
        "número de empleados (?) no entiendo. ¿Si el encuestado es un empresario y tiene empleados?"
      ],
      "metadata": {
        "id": "poeNRqgYsXZU"
      }
    },
    {
      "cell_type": "markdown",
      "source": [
        "# Preparar las variables\n",
        "## Education\n",
        "La columna education tiene 8 categorias, y queremos reducirlas, de modo que las categorias basic.9y, basic.6y y basic.4y se van a quedar en solo basic."
      ],
      "metadata": {
        "id": "2VJ0yrNAsXZV"
      }
    },
    {
      "cell_type": "code",
      "source": [
        "# usamos una funcion de NumPy que dice que en la columna education,\n",
        "# donde el valor de la celda es basic.9y, hay que cambiarlo por Basic, en esa misma columna.\n",
        "data2['education']=np.where(data2['education'] == 'basic.9y','Basic', data2['education'])\n",
        "data2['education'].unique()"
      ],
      "metadata": {
        "execution": {
          "iopub.status.busy": "2022-12-22T11:46:20.217306Z",
          "iopub.execute_input": "2022-12-22T11:46:20.218101Z",
          "iopub.status.idle": "2022-12-22T11:46:20.23442Z",
          "shell.execute_reply.started": "2022-12-22T11:46:20.218045Z",
          "shell.execute_reply": "2022-12-22T11:46:20.233144Z"
        },
        "trusted": true,
        "id": "kBDr3z3isXZV"
      },
      "outputs": [],
      "execution_count": null
    },
    {
      "cell_type": "code",
      "source": [
        "# usamos una funcion de NumPy que dice que en la columna education,\n",
        "# donde el valor de la celda es basic.9y, hay que cambiarlo por Basic, en esa misma columna.\n",
        "data2['education']=np.where(data2['education'] == 'basic.6y','Basic', data2['education'])\n",
        "data2['education'].unique()"
      ],
      "metadata": {
        "execution": {
          "iopub.status.busy": "2022-12-22T11:46:20.235928Z",
          "iopub.execute_input": "2022-12-22T11:46:20.236842Z",
          "iopub.status.idle": "2022-12-22T11:46:20.254946Z",
          "shell.execute_reply.started": "2022-12-22T11:46:20.236799Z",
          "shell.execute_reply": "2022-12-22T11:46:20.253648Z"
        },
        "trusted": true,
        "id": "sU8Nv-nCsXZV"
      },
      "outputs": [],
      "execution_count": null
    },
    {
      "cell_type": "code",
      "source": [
        "# usamos una funcion de NumPy que dice que en la columna education,\n",
        "# donde el valor de la celda es basic.9y, hay que cambiarlo por Basic, en esa misma columna.\n",
        "data2['education']=np.where(data2['education'] == 'basic.4y','Basic', data2['education'])\n",
        "data2['education'].unique()"
      ],
      "metadata": {
        "execution": {
          "iopub.status.busy": "2022-12-22T11:46:20.256675Z",
          "iopub.execute_input": "2022-12-22T11:46:20.257313Z",
          "iopub.status.idle": "2022-12-22T11:46:20.271473Z",
          "shell.execute_reply.started": "2022-12-22T11:46:20.257278Z",
          "shell.execute_reply": "2022-12-22T11:46:20.270623Z"
        },
        "trusted": true,
        "id": "TjVwLLQNsXZV"
      },
      "outputs": [],
      "execution_count": null
    },
    {
      "cell_type": "markdown",
      "source": [
        "# Exploracion de dato"
      ],
      "metadata": {
        "id": "kNEw0qIcsXZV"
      }
    },
    {
      "cell_type": "code",
      "source": [
        "# a ver cuanta gente se suscribió a ese producto\n",
        "data2['y'].value_counts()"
      ],
      "metadata": {
        "execution": {
          "iopub.status.busy": "2022-12-22T11:46:20.272645Z",
          "iopub.execute_input": "2022-12-22T11:46:20.273147Z",
          "iopub.status.idle": "2022-12-22T11:46:20.282626Z",
          "shell.execute_reply.started": "2022-12-22T11:46:20.273112Z",
          "shell.execute_reply": "2022-12-22T11:46:20.281543Z"
        },
        "trusted": true,
        "id": "M2M_QZaGsXZV"
      },
      "outputs": [],
      "execution_count": null
    },
    {
      "cell_type": "code",
      "source": [
        "# vamos a verlo en un gráfico\n",
        "import matplotlib.pyplot as plt\n",
        "plt.rc('font', size=14)\n",
        "\n",
        "import seaborn as sns\n",
        "\n",
        "# configuro colores\n",
        "sns.set(style='white')\n",
        "sns.set(style='whitegrid', color_codes=True)"
      ],
      "metadata": {
        "execution": {
          "iopub.status.busy": "2022-12-22T11:46:20.283791Z",
          "iopub.execute_input": "2022-12-22T11:46:20.284381Z",
          "iopub.status.idle": "2022-12-22T11:46:20.293625Z",
          "shell.execute_reply.started": "2022-12-22T11:46:20.28435Z",
          "shell.execute_reply": "2022-12-22T11:46:20.292437Z"
        },
        "trusted": true,
        "id": "on5ca4vQsXZW"
      },
      "outputs": [],
      "execution_count": null
    },
    {
      "cell_type": "code",
      "source": [
        "sns.countplot(x='y',\n",
        "             data = data2,\n",
        "             palette='hls')\n",
        "plt.show\n",
        "plt.savefig('count_plot')"
      ],
      "metadata": {
        "execution": {
          "iopub.status.busy": "2022-12-22T11:46:20.294965Z",
          "iopub.execute_input": "2022-12-22T11:46:20.295336Z",
          "iopub.status.idle": "2022-12-22T11:46:20.534872Z",
          "shell.execute_reply.started": "2022-12-22T11:46:20.295303Z",
          "shell.execute_reply": "2022-12-22T11:46:20.533587Z"
        },
        "trusted": true,
        "id": "utgImSUysXZW"
      },
      "outputs": [],
      "execution_count": null
    },
    {
      "cell_type": "markdown",
      "source": [
        "Claramente, la muestra está desequilibrada: hay mucha más gente que no se suscribió, lo cual es un problema de cara a entrenar el modelo."
      ],
      "metadata": {
        "id": "6FVRscIRsXZW"
      }
    },
    {
      "cell_type": "code",
      "source": [
        "# voy a sacar las medias de las variables cuantitativas según la columna y\n",
        "data2.groupby('y').mean()"
      ],
      "metadata": {
        "execution": {
          "iopub.status.busy": "2022-12-22T11:46:20.536471Z",
          "iopub.execute_input": "2022-12-22T11:46:20.537603Z",
          "iopub.status.idle": "2022-12-22T11:46:20.561651Z",
          "shell.execute_reply.started": "2022-12-22T11:46:20.537562Z",
          "shell.execute_reply": "2022-12-22T11:46:20.560469Z"
        },
        "trusted": true,
        "id": "lCqo58khsXZW"
      },
      "outputs": [],
      "execution_count": null
    },
    {
      "cell_type": "markdown",
      "source": [
        "Observaciones. Entre ambos grupos:\n",
        "* la edad no es una diferencia significativa.\n",
        "* las llamadas exitosas fueron más largas.\n",
        "* el número de veces que se contacto a los que dijeron que si fue inferior\n",
        "* pasaron menos dias entre contactos entre los que dijeron que si. Se argumenta que a menos dias, mejor memoria de la llamada anterior y mejores posibilidades de una venta."
      ],
      "metadata": {
        "id": "FwowvxtBsXZW"
      }
    },
    {
      "cell_type": "code",
      "source": [
        "# voy a sacar las modas de todas las variables según la columna y\n",
        "data2.groupby('y').agg(pd.Series.mode)"
      ],
      "metadata": {
        "execution": {
          "iopub.status.busy": "2022-12-22T11:46:20.563148Z",
          "iopub.execute_input": "2022-12-22T11:46:20.563616Z",
          "iopub.status.idle": "2022-12-22T11:46:20.889154Z",
          "shell.execute_reply.started": "2022-12-22T11:46:20.563572Z",
          "shell.execute_reply": "2022-12-22T11:46:20.888132Z"
        },
        "trusted": true,
        "id": "M7to2E4GsXZW"
      },
      "outputs": [],
      "execution_count": null
    },
    {
      "cell_type": "markdown",
      "source": [
        "Observaciones. Entre ambos grupos:\n",
        "* la edad no es una diferencia significativa.\n",
        "* es trabajo más frecuente es de tipo administrativo.\n",
        "* el estado civil es casado\n",
        "* los que dijeron que si eran universitarios, frente a los que dijeron que no, que tenían estudios básicos."
      ],
      "metadata": {
        "id": "D0VqIMd4sXZX"
      }
    },
    {
      "cell_type": "markdown",
      "source": [
        "# Visualizaciones"
      ],
      "metadata": {
        "id": "EhdPFBeUsXZX"
      }
    },
    {
      "cell_type": "code",
      "source": [
        "tabla_cruzada_job = pd.crosstab(data2.job,data2.y)"
      ],
      "metadata": {
        "execution": {
          "iopub.status.busy": "2022-12-22T11:46:20.890256Z",
          "iopub.execute_input": "2022-12-22T11:46:20.890576Z",
          "iopub.status.idle": "2022-12-22T11:46:20.914393Z",
          "shell.execute_reply.started": "2022-12-22T11:46:20.890547Z",
          "shell.execute_reply": "2022-12-22T11:46:20.913138Z"
        },
        "trusted": true,
        "id": "yBw06NNysXZX"
      },
      "outputs": [],
      "execution_count": null
    },
    {
      "cell_type": "code",
      "source": [
        "# a ver, esto es nuevo.\n",
        "# Matplotlib Inline command is a magic command that makes\n",
        "#the plots generated by matplotlib show into the IPython shell\n",
        "#that we are running and not in a separate output window.\n",
        "%matplotlib inline\n",
        "\n",
        "#esto tambien es interesante: pide una tabla cruzada,\n",
        "#y le pone .plot detras, y entre parentesis, el tipo de plot\n",
        "tabla_cruzada_job.plot(kind='bar')\n",
        "\n",
        "plt.title('Purchase Frequency for Job Title')\n",
        "plt.xlabel('Job')\n",
        "plt.ylabel('Frequency of Purchase')\n",
        "plt.savefig('purchase_fre_job')"
      ],
      "metadata": {
        "execution": {
          "iopub.status.busy": "2022-12-22T11:46:20.915634Z",
          "iopub.execute_input": "2022-12-22T11:46:20.915959Z",
          "iopub.status.idle": "2022-12-22T11:46:21.303156Z",
          "shell.execute_reply.started": "2022-12-22T11:46:20.915931Z",
          "shell.execute_reply": "2022-12-22T11:46:21.301849Z"
        },
        "trusted": true,
        "id": "5fZ5J9fLsXZX"
      },
      "outputs": [],
      "execution_count": null
    },
    {
      "cell_type": "code",
      "source": [
        "table=pd.crosstab(data.marital,data.y)\n",
        "table.div(table.sum(1).astype(float), axis=0).plot(kind='bar', stacked=True)\n",
        "plt.title('Stacked Bar Chart of Marital Status vs Purchase')\n",
        "plt.xlabel('Marital Status')\n",
        "plt.ylabel('Proportion of Customers')\n",
        "plt.savefig('mariral_vs_pur_stack')"
      ],
      "metadata": {
        "execution": {
          "iopub.status.busy": "2022-12-22T11:46:21.304467Z",
          "iopub.execute_input": "2022-12-22T11:46:21.304906Z",
          "iopub.status.idle": "2022-12-22T11:46:21.584111Z",
          "shell.execute_reply.started": "2022-12-22T11:46:21.304873Z",
          "shell.execute_reply": "2022-12-22T11:46:21.583004Z"
        },
        "trusted": true,
        "id": "9KG3hv13sXZY"
      },
      "outputs": [],
      "execution_count": null
    },
    {
      "cell_type": "code",
      "source": [
        "table=pd.crosstab(data.education,data.y)\n",
        "table.div(table.sum(1).astype(float), axis=0).plot(kind='bar', stacked=True)\n",
        "plt.title('Stacked Bar Chart of Education vs Purchase')\n",
        "plt.xlabel('Education')\n",
        "plt.ylabel('Proportion of Customers')\n",
        "plt.savefig('edu_vs_pur_stack')"
      ],
      "metadata": {
        "execution": {
          "iopub.status.busy": "2022-12-22T11:46:21.585788Z",
          "iopub.execute_input": "2022-12-22T11:46:21.586371Z",
          "iopub.status.idle": "2022-12-22T11:46:21.933473Z",
          "shell.execute_reply.started": "2022-12-22T11:46:21.586335Z",
          "shell.execute_reply": "2022-12-22T11:46:21.932573Z"
        },
        "trusted": true,
        "id": "rLHSxdCXsXZZ"
      },
      "outputs": [],
      "execution_count": null
    },
    {
      "cell_type": "code",
      "source": [
        "pd.crosstab(data.day_of_week,data.y).plot(kind='bar')\n",
        "plt.title('Purchase Frequency for Day of Week')\n",
        "plt.xlabel('Day of Week')\n",
        "plt.ylabel('Frequency of Purchase')\n",
        "plt.savefig('pur_dayofweek_bar')"
      ],
      "metadata": {
        "execution": {
          "iopub.status.busy": "2022-12-22T11:46:21.934706Z",
          "iopub.execute_input": "2022-12-22T11:46:21.935683Z",
          "iopub.status.idle": "2022-12-22T11:46:22.243286Z",
          "shell.execute_reply.started": "2022-12-22T11:46:21.935646Z",
          "shell.execute_reply": "2022-12-22T11:46:22.241919Z"
        },
        "trusted": true,
        "id": "c39Yoq3nsXZa"
      },
      "outputs": [],
      "execution_count": null
    },
    {
      "cell_type": "code",
      "source": [
        "pd.crosstab(data.month,data.y).plot(kind='bar')\n",
        "plt.title('Purchase Frequency for Month')\n",
        "plt.xlabel('Month')\n",
        "plt.ylabel('Frequency of Purchase')\n",
        "plt.savefig('pur_fre_month_bar')"
      ],
      "metadata": {
        "execution": {
          "iopub.status.busy": "2022-12-22T11:46:22.244622Z",
          "iopub.execute_input": "2022-12-22T11:46:22.244947Z",
          "iopub.status.idle": "2022-12-22T11:46:22.647615Z",
          "shell.execute_reply.started": "2022-12-22T11:46:22.244918Z",
          "shell.execute_reply": "2022-12-22T11:46:22.646166Z"
        },
        "trusted": true,
        "id": "hwFr18eNsXZb"
      },
      "outputs": [],
      "execution_count": null
    },
    {
      "cell_type": "code",
      "source": [
        "data.age.hist()\n",
        "plt.title('Histogram of Age')\n",
        "plt.xlabel('Age')\n",
        "plt.ylabel('Frequency')\n",
        "plt.savefig('hist_age')"
      ],
      "metadata": {
        "execution": {
          "iopub.status.busy": "2022-12-22T11:46:22.649275Z",
          "iopub.execute_input": "2022-12-22T11:46:22.64962Z",
          "iopub.status.idle": "2022-12-22T11:46:22.990903Z",
          "shell.execute_reply.started": "2022-12-22T11:46:22.649587Z",
          "shell.execute_reply": "2022-12-22T11:46:22.990028Z"
        },
        "trusted": true,
        "id": "It9jPUr9sXZc"
      },
      "outputs": [],
      "execution_count": null
    },
    {
      "cell_type": "code",
      "source": [
        "pd.crosstab(data.poutcome,data.y).plot(kind='bar')\n",
        "plt.title('Purchase Frequency for Poutcome')\n",
        "plt.xlabel('Poutcome')\n",
        "plt.ylabel('Frequency of Purchase')\n",
        "plt.savefig('pur_fre_pout_bar')"
      ],
      "metadata": {
        "execution": {
          "iopub.status.busy": "2022-12-22T11:46:22.99217Z",
          "iopub.execute_input": "2022-12-22T11:46:22.992668Z",
          "iopub.status.idle": "2022-12-22T11:46:23.298161Z",
          "shell.execute_reply.started": "2022-12-22T11:46:22.992636Z",
          "shell.execute_reply": "2022-12-22T11:46:23.297203Z"
        },
        "trusted": true,
        "id": "x4l1f5o5sXZd"
      },
      "outputs": [],
      "execution_count": null
    },
    {
      "cell_type": "markdown",
      "source": [
        "# Variables Dummy"
      ],
      "metadata": {
        "id": "w-M7KoZpsXZe"
      }
    },
    {
      "cell_type": "markdown",
      "source": [
        "Aqui no entiendo muy bien que hace la autora. Parece que su objetivo es quedarse con un dataframe que contenga, por una parte, las columnas que son cuantitativas, y por otra, columnas dummie de las variables cualitativas, lo que la deja con un montón de columnas.<br>\n",
        "Como entiendo lo que quiere hacer, pero no cómo lo hace, voy hacerlo de otra manera:"
      ],
      "metadata": {
        "id": "uyG0Mqz2sXZe"
      }
    },
    {
      "cell_type": "code",
      "source": [
        "data2.columns"
      ],
      "metadata": {
        "execution": {
          "iopub.status.busy": "2022-12-22T11:46:23.299563Z",
          "iopub.execute_input": "2022-12-22T11:46:23.300169Z",
          "iopub.status.idle": "2022-12-22T11:46:23.308156Z",
          "shell.execute_reply.started": "2022-12-22T11:46:23.300134Z",
          "shell.execute_reply": "2022-12-22T11:46:23.306947Z"
        },
        "trusted": true,
        "id": "545H31mNsXZf"
      },
      "outputs": [],
      "execution_count": null
    },
    {
      "cell_type": "code",
      "source": [
        "# creo un dataframe solo con las columnas de las que quiero sacar dummies\n",
        "banco_dummies=data2.drop(['age', 'duration', 'campaign', 'pdays',\n",
        "       'previous', 'emp_var_rate', 'cons_price_idx',\n",
        "       'cons_conf_idx', 'euribor3m', 'nr_employed', 'y'],\n",
        "                         axis  = 1,\n",
        "                         inplace = False)\n",
        "banco_dummies.columns"
      ],
      "metadata": {
        "execution": {
          "iopub.status.busy": "2022-12-22T11:46:23.309597Z",
          "iopub.execute_input": "2022-12-22T11:46:23.309947Z",
          "iopub.status.idle": "2022-12-22T11:46:23.32866Z",
          "shell.execute_reply.started": "2022-12-22T11:46:23.309916Z",
          "shell.execute_reply": "2022-12-22T11:46:23.327205Z"
        },
        "trusted": true,
        "id": "p4kbMkVKsXZf"
      },
      "outputs": [],
      "execution_count": null
    },
    {
      "cell_type": "code",
      "source": [
        "#creo otro dataframe con las columnas de las que no saco dummies\n",
        "banco_no_dummies=data2.drop(['job', 'marital', 'education', 'default', 'housing', 'loan', 'contact',\n",
        "       'month', 'day_of_week', 'poutcome'],\n",
        "                         axis  = 1,\n",
        "                         inplace = False)\n",
        "banco_no_dummies.columns"
      ],
      "metadata": {
        "execution": {
          "iopub.status.busy": "2022-12-22T11:46:23.330645Z",
          "iopub.execute_input": "2022-12-22T11:46:23.331209Z",
          "iopub.status.idle": "2022-12-22T11:46:23.342296Z",
          "shell.execute_reply.started": "2022-12-22T11:46:23.331161Z",
          "shell.execute_reply": "2022-12-22T11:46:23.341333Z"
        },
        "trusted": true,
        "id": "uBN_Y5mLsXZf"
      },
      "outputs": [],
      "execution_count": null
    },
    {
      "cell_type": "code",
      "source": [
        "banco_dummies2=pd.get_dummies(banco_dummies)\n",
        "banco_dummies2.head(5)"
      ],
      "metadata": {
        "execution": {
          "iopub.status.busy": "2022-12-22T11:46:23.344201Z",
          "iopub.execute_input": "2022-12-22T11:46:23.345015Z",
          "iopub.status.idle": "2022-12-22T11:46:23.427736Z",
          "shell.execute_reply.started": "2022-12-22T11:46:23.344958Z",
          "shell.execute_reply": "2022-12-22T11:46:23.426525Z"
        },
        "trusted": true,
        "id": "diBRv3TisXZg"
      },
      "outputs": [],
      "execution_count": null
    },
    {
      "cell_type": "code",
      "source": [
        "#uno el dataset con los dummies con el dataset de las columnas de las que no saque dummies\n",
        "data_final=banco_no_dummies.join(banco_dummies2)\n",
        "data_final.columns"
      ],
      "metadata": {
        "execution": {
          "iopub.status.busy": "2022-12-22T11:46:23.435284Z",
          "iopub.execute_input": "2022-12-22T11:46:23.435638Z",
          "iopub.status.idle": "2022-12-22T11:46:23.447139Z",
          "shell.execute_reply.started": "2022-12-22T11:46:23.435607Z",
          "shell.execute_reply": "2022-12-22T11:46:23.445899Z"
        },
        "trusted": true,
        "id": "T97CYO94sXZg"
      },
      "outputs": [],
      "execution_count": null
    },
    {
      "cell_type": "markdown",
      "source": [
        "# Over-sampling usando SMOTE\n",
        "Confieso que no tengo ni idea de lo que es Over-sampling. Creo que es crear muestras falsas <br>\n",
        "SMOTE son las siglas de Synthetic Minority Oversampling Technique. Lo que hace es:\n",
        "1. crear muestras sinteticas de la clase de la que haya menos casos.\n",
        "2. elegir al azar los vecinos para crear nuevas observaciones."
      ],
      "metadata": {
        "id": "R5dMzOhDsXZg"
      }
    },
    {
      "cell_type": "code",
      "source": [
        "# conjunto de datos sin la columna y\n",
        "X = data_final.drop(['y'], axis  = 1, inplace = False)\n",
        "X"
      ],
      "metadata": {
        "execution": {
          "iopub.status.busy": "2022-12-22T11:46:23.449018Z",
          "iopub.execute_input": "2022-12-22T11:46:23.449753Z",
          "iopub.status.idle": "2022-12-22T11:46:23.481487Z",
          "shell.execute_reply.started": "2022-12-22T11:46:23.449704Z",
          "shell.execute_reply": "2022-12-22T11:46:23.48031Z"
        },
        "trusted": true,
        "id": "ZSW1VmFUsXZg"
      },
      "outputs": [],
      "execution_count": null
    },
    {
      "cell_type": "code",
      "source": [
        "# solo la columna y\n",
        "y = pd.DataFrame(data_final['y'])\n",
        "y"
      ],
      "metadata": {
        "execution": {
          "iopub.status.busy": "2022-12-22T11:46:23.48429Z",
          "iopub.execute_input": "2022-12-22T11:46:23.484749Z",
          "iopub.status.idle": "2022-12-22T11:46:23.496587Z",
          "shell.execute_reply.started": "2022-12-22T11:46:23.484706Z",
          "shell.execute_reply": "2022-12-22T11:46:23.495584Z"
        },
        "trusted": true,
        "id": "0QvlJCa3sXZg"
      },
      "outputs": [],
      "execution_count": null
    },
    {
      "cell_type": "code",
      "source": [
        "#importo la funcion SMOTE\n",
        "from imblearn.over_sampling import SMOTE\n",
        "\n",
        "#configuro la funcion SMOTE\n",
        "os = SMOTE(random_state=0)\n",
        "\n",
        "print('SMOTE configurado')"
      ],
      "metadata": {
        "execution": {
          "iopub.status.busy": "2022-12-22T11:46:23.49803Z",
          "iopub.execute_input": "2022-12-22T11:46:23.49881Z",
          "iopub.status.idle": "2022-12-22T11:46:23.510624Z",
          "shell.execute_reply.started": "2022-12-22T11:46:23.498771Z",
          "shell.execute_reply": "2022-12-22T11:46:23.509479Z"
        },
        "trusted": true,
        "id": "wx0Kb_2asXZg"
      },
      "outputs": [],
      "execution_count": null
    },
    {
      "cell_type": "code",
      "source": [
        "# separo la muestra para comprobar la validez del modelo\n",
        "from sklearn.model_selection import train_test_split\n",
        "X_train, X_test, y_train, y_test = train_test_split(X, y, test_size=0.3, random_state=0)\n",
        "\n",
        "#print('X_train:')\n",
        "#print(X_train)\n",
        "#print('++++++')\n",
        "#print('X_test:')\n",
        "#print(X_test)\n",
        "#print('++++++')\n",
        "#print('y_train:')\n",
        "#print(y_train)\n",
        "#print('++++++')\n",
        "#print('y_test:')\n",
        "#print(y_test)"
      ],
      "metadata": {
        "execution": {
          "iopub.status.busy": "2022-12-22T11:46:23.511785Z",
          "iopub.execute_input": "2022-12-22T11:46:23.512155Z",
          "iopub.status.idle": "2022-12-22T11:46:23.565141Z",
          "shell.execute_reply.started": "2022-12-22T11:46:23.512113Z",
          "shell.execute_reply": "2022-12-22T11:46:23.564003Z"
        },
        "trusted": true,
        "id": "bgCZpkyzsXZh"
      },
      "outputs": [],
      "execution_count": null
    },
    {
      "cell_type": "code",
      "source": [
        "columns = X_train.columns\n",
        "columns"
      ],
      "metadata": {
        "execution": {
          "iopub.status.busy": "2022-12-22T11:46:23.566846Z",
          "iopub.execute_input": "2022-12-22T11:46:23.567177Z",
          "iopub.status.idle": "2022-12-22T11:46:23.574852Z",
          "shell.execute_reply.started": "2022-12-22T11:46:23.567148Z",
          "shell.execute_reply": "2022-12-22T11:46:23.573481Z"
        },
        "trusted": true,
        "id": "beGJJfP3sXZh"
      },
      "outputs": [],
      "execution_count": null
    },
    {
      "cell_type": "code",
      "source": [
        "#entrenamos el modelo.\n",
        "# en el post original esto parece estar mal: puso sample cuando es resample\n",
        "# y da error pq hay valores perdidos\n",
        "os_data_X,os_data_y=os.fit_resample(X_train, y_train)\n",
        "\n",
        "#print('os_data_X:')\n",
        "#print(os_data_X)\n",
        "#print('++++++')\n",
        "#print('os_data_y:')\n",
        "#print(os_data_y)"
      ],
      "metadata": {
        "execution": {
          "iopub.status.busy": "2022-12-22T11:46:23.576859Z",
          "iopub.execute_input": "2022-12-22T11:46:23.577322Z",
          "iopub.status.idle": "2022-12-22T11:46:23.9698Z",
          "shell.execute_reply.started": "2022-12-22T11:46:23.577278Z",
          "shell.execute_reply": "2022-12-22T11:46:23.968605Z"
        },
        "trusted": true,
        "id": "qBqez-rCsXZh"
      },
      "outputs": [],
      "execution_count": null
    },
    {
      "cell_type": "markdown",
      "source": [
        "Esta orden ha creado unos 10.000 filas nuevas"
      ],
      "metadata": {
        "id": "U8mrrjj8sXZh"
      }
    },
    {
      "cell_type": "code",
      "source": [
        "len (os_data_y)-len(data_final)"
      ],
      "metadata": {
        "execution": {
          "iopub.status.busy": "2022-12-22T11:46:23.971228Z",
          "iopub.execute_input": "2022-12-22T11:46:23.971818Z",
          "iopub.status.idle": "2022-12-22T11:46:23.979389Z",
          "shell.execute_reply.started": "2022-12-22T11:46:23.971783Z",
          "shell.execute_reply": "2022-12-22T11:46:23.978097Z"
        },
        "trusted": true,
        "id": "DQsSrAeYsXZh"
      },
      "outputs": [],
      "execution_count": null
    },
    {
      "cell_type": "code",
      "source": [
        "#lo guardamos en un dataframe\n",
        "os_data_X = pd.DataFrame(data=os_data_X,columns=columns )\n",
        "os_data_y= pd.DataFrame(data=os_data_y,columns=['y'])"
      ],
      "metadata": {
        "execution": {
          "iopub.status.busy": "2022-12-22T11:46:23.980718Z",
          "iopub.execute_input": "2022-12-22T11:46:23.981059Z",
          "iopub.status.idle": "2022-12-22T11:46:23.991399Z",
          "shell.execute_reply.started": "2022-12-22T11:46:23.981028Z",
          "shell.execute_reply": "2022-12-22T11:46:23.990163Z"
        },
        "trusted": true,
        "id": "XAlQVnqesXZi"
      },
      "outputs": [],
      "execution_count": null
    },
    {
      "cell_type": "code",
      "source": [
        "# we can Check the numbers of our data\n",
        "print(\"length of oversampled data is \",len(os_data_X))\n",
        "print(\"Number of no subscription in oversampled data\",len(os_data_y[os_data_y['y']==0]))\n",
        "print(\"Number of subscription\",len(os_data_y[os_data_y['y']==1]))\n",
        "print(\"Proportion of no subscription data in oversampled data is \",len(os_data_y[os_data_y['y']==0])/len(os_data_X))\n",
        "print(\"Proportion of subscription data in oversampled data is \",len(os_data_y[os_data_y['y']==1])/len(os_data_X))"
      ],
      "metadata": {
        "execution": {
          "iopub.status.busy": "2022-12-22T11:46:23.992859Z",
          "iopub.execute_input": "2022-12-22T11:46:23.993692Z",
          "iopub.status.idle": "2022-12-22T11:46:24.013375Z",
          "shell.execute_reply.started": "2022-12-22T11:46:23.993652Z",
          "shell.execute_reply": "2022-12-22T11:46:24.012171Z"
        },
        "trusted": true,
        "id": "Dth5fSGssXZj"
      },
      "outputs": [],
      "execution_count": null
    },
    {
      "cell_type": "markdown",
      "source": [
        "Ahora tenemos una muestra perfectamente equilibrada. <br>\n",
        "Puedes ver que se ha aumentado la muestra solo del conjunto de datos de entrenamiento. Esto es asi pq al no usar la muestra de test para crear observaciones sinteticas, ninguna informacion pasa al modelo de entrenamiento."
      ],
      "metadata": {
        "id": "QaOjuJzjsXZj"
      }
    },
    {
      "cell_type": "markdown",
      "source": [
        "# Eliminacion Recurrente de Atributos (Recursive Feature Elimination)\n",
        "La idea es construir una y otra vez un modelo, eligiendo el atributo que funciona mejor y descartando el que funciona peor.<br>\n",
        "El objetivo es elegir los atributos considerando conjuntos de atributos cada vez mas pequeños."
      ],
      "metadata": {
        "id": "zBHGgQvSsXZj"
      }
    },
    {
      "cell_type": "code",
      "source": [
        "#Hacemos una lista con los nombres de las columnas\n",
        "data_final_vars=data_final.columns.values.tolist()\n",
        "data_final_vars"
      ],
      "metadata": {
        "execution": {
          "iopub.status.busy": "2022-12-22T11:46:24.014687Z",
          "iopub.execute_input": "2022-12-22T11:46:24.015134Z",
          "iopub.status.idle": "2022-12-22T11:46:24.023237Z",
          "shell.execute_reply.started": "2022-12-22T11:46:24.015101Z",
          "shell.execute_reply": "2022-12-22T11:46:24.021895Z"
        },
        "trusted": true,
        "id": "7HldAYcksXZj"
      },
      "outputs": [],
      "execution_count": null
    },
    {
      "cell_type": "code",
      "source": [
        "#no se muy bien qué hace aqui.\n",
        "# primero sobreescribe la variable y\n",
        "y=['y']\n",
        "\n",
        "# ahora crea una lista, en la que parece filtrar las columnas\n",
        "# el elemento i, uno por cada elemento en la lista data_final_vars, pero solo si no está en la variable y\n",
        "X=[i for i in data_final_vars if i not in y]\n",
        "X"
      ],
      "metadata": {
        "execution": {
          "iopub.status.busy": "2022-12-22T11:46:24.026109Z",
          "iopub.execute_input": "2022-12-22T11:46:24.026547Z",
          "iopub.status.idle": "2022-12-22T11:46:24.038316Z",
          "shell.execute_reply.started": "2022-12-22T11:46:24.026512Z",
          "shell.execute_reply": "2022-12-22T11:46:24.037043Z"
        },
        "trusted": true,
        "id": "0lp6fa9BsXZk"
      },
      "outputs": [],
      "execution_count": null
    },
    {
      "cell_type": "code",
      "source": [
        "# importa los algoritmos\n",
        "from sklearn.feature_selection import RFE\n",
        "from sklearn.linear_model import LogisticRegression\n",
        "print('importacion efectuada')"
      ],
      "metadata": {
        "trusted": true,
        "id": "wuNXDeLzsXZk"
      },
      "outputs": [],
      "execution_count": null
    },
    {
      "cell_type": "code",
      "source": [
        "estimator = LogisticRegression(max_iter=5000)\n",
        "print('estimador establecido')"
      ],
      "metadata": {
        "execution": {
          "iopub.status.busy": "2022-12-22T11:46:24.052815Z",
          "iopub.execute_input": "2022-12-22T11:46:24.053292Z",
          "iopub.status.idle": "2022-12-22T11:46:24.063794Z",
          "shell.execute_reply.started": "2022-12-22T11:46:24.05325Z",
          "shell.execute_reply": "2022-12-22T11:46:24.062621Z"
        },
        "trusted": true,
        "id": "06DJu_JMsXZk"
      },
      "outputs": [],
      "execution_count": null
    },
    {
      "cell_type": "code",
      "source": [
        "#los parametros de RFE son:\n",
        "# estimador, que es la regresion logistica\n",
        "# el numero de atributos, que es 20\n",
        "selector = RFE(estimator, n_features_to_select=20)\n",
        "print('selector establecido')"
      ],
      "metadata": {
        "execution": {
          "iopub.status.busy": "2022-12-22T11:46:24.065307Z",
          "iopub.execute_input": "2022-12-22T11:46:24.065633Z",
          "iopub.status.idle": "2022-12-22T11:46:24.076797Z",
          "shell.execute_reply.started": "2022-12-22T11:46:24.065604Z",
          "shell.execute_reply": "2022-12-22T11:46:24.075909Z"
        },
        "trusted": true,
        "id": "OH1yZ0FosXZk"
      },
      "outputs": [],
      "execution_count": null
    },
    {
      "cell_type": "code",
      "source": [
        "os_data_y"
      ],
      "metadata": {
        "execution": {
          "iopub.status.busy": "2022-12-22T11:58:59.513529Z",
          "iopub.execute_input": "2022-12-22T11:58:59.514747Z",
          "iopub.status.idle": "2022-12-22T11:58:59.531771Z",
          "shell.execute_reply.started": "2022-12-22T11:58:59.514694Z",
          "shell.execute_reply": "2022-12-22T11:58:59.530859Z"
        },
        "trusted": true,
        "id": "7QEhcex1sXZk"
      },
      "outputs": [],
      "execution_count": null
    },
    {
      "cell_type": "code",
      "source": [
        "os_data_y.values"
      ],
      "metadata": {
        "execution": {
          "iopub.status.busy": "2022-12-22T11:58:51.029126Z",
          "iopub.execute_input": "2022-12-22T11:58:51.029553Z",
          "iopub.status.idle": "2022-12-22T11:58:51.036768Z",
          "shell.execute_reply.started": "2022-12-22T11:58:51.029515Z",
          "shell.execute_reply": "2022-12-22T11:58:51.035569Z"
        },
        "trusted": true,
        "id": "y6MQKoxksXZk"
      },
      "outputs": [],
      "execution_count": null
    },
    {
      "cell_type": "code",
      "source": [
        "os_data_y.values.ravel()"
      ],
      "metadata": {
        "execution": {
          "iopub.status.busy": "2022-12-22T11:58:32.228287Z",
          "iopub.execute_input": "2022-12-22T11:58:32.229675Z",
          "iopub.status.idle": "2022-12-22T11:58:32.237892Z",
          "shell.execute_reply.started": "2022-12-22T11:58:32.229625Z",
          "shell.execute_reply": "2022-12-22T11:58:32.236626Z"
        },
        "trusted": true,
        "id": "LGRdA8xhsXZl"
      },
      "outputs": [],
      "execution_count": null
    },
    {
      "cell_type": "code",
      "source": [
        "#entrenas el modelos\n",
        "# no se porque añade .values y .ravel() a os_data_y\n",
        "#   df.values desmonta el dataframe y devuelve los valores de las celdas como un unico y larguisimo vector\n",
        "#   df.ravel() devuelve los datos subyacentes como un ndarray, que es un array de muchas dimensiones.\n",
        "#   es como si lo convirtiera en una lista.\n",
        "rfe = selector.fit(os_data_X, os_data_y.values.ravel())\n",
        "atributos_seleccionados = rfe.support_.tolist()\n",
        "print(atributos_seleccionados)\n",
        "print(rfe.ranking_)\n",
        "#he tenido que incrementar el número de iteraciones de la regresion,\n",
        "#de los 100 por defecto, a 5000\n",
        "#eso aumenta el tiempo de procesamiento.\n",
        "# pero ya no sale el mensaje de error."
      ],
      "metadata": {
        "execution": {
          "iopub.status.busy": "2022-12-22T11:46:24.078041Z",
          "iopub.execute_input": "2022-12-22T11:46:24.078418Z",
          "iopub.status.idle": "2022-12-22T11:49:11.594374Z",
          "shell.execute_reply.started": "2022-12-22T11:46:24.078385Z",
          "shell.execute_reply": "2022-12-22T11:49:11.593133Z"
        },
        "trusted": true,
        "id": "O6rP-KoesXZl"
      },
      "outputs": [],
      "execution_count": null
    },
    {
      "cell_type": "code",
      "source": [
        "#ahora necesito identificar los atributos seleccionados\n",
        "\n",
        "#creo una lista vacia donde ir guardando cosas\n",
        "atributos_seleccionados2=[]\n",
        "\n",
        "#por cada numero dentro de un rango tan largo como la lista X\n",
        "for i in range(len(X)):\n",
        "    # si esa posicion en la lista atributos_selecionados es Verdad\n",
        "    if atributos_seleccionados[i] == True:\n",
        "        #entonces añade esa posicion de la lista X a la lista atributos_seleccionados2\n",
        "        atributos_seleccionados2.append(X[i])\n",
        "\n",
        "atributos_seleccionados2"
      ],
      "metadata": {
        "execution": {
          "iopub.status.busy": "2022-12-22T11:49:11.596365Z",
          "iopub.execute_input": "2022-12-22T11:49:11.597226Z",
          "iopub.status.idle": "2022-12-22T11:49:11.607241Z",
          "shell.execute_reply.started": "2022-12-22T11:49:11.597179Z",
          "shell.execute_reply": "2022-12-22T11:49:11.60612Z"
        },
        "trusted": true,
        "id": "HYaqY8CQsXZl"
      },
      "outputs": [],
      "execution_count": null
    },
    {
      "cell_type": "markdown",
      "source": [
        "El algoritmo de Eliminacion Recursiva nos ha ayudado a seleccionar los atributos más interesantes."
      ],
      "metadata": {
        "id": "d2utCowXsXZl"
      }
    },
    {
      "cell_type": "code",
      "source": [
        "X=os_data_X[atributos_seleccionados2]\n",
        "y=os_data_y['y']"
      ],
      "metadata": {
        "execution": {
          "iopub.status.busy": "2022-12-22T12:06:29.203167Z",
          "iopub.execute_input": "2022-12-22T12:06:29.204383Z",
          "iopub.status.idle": "2022-12-22T12:06:29.211635Z",
          "shell.execute_reply.started": "2022-12-22T12:06:29.204328Z",
          "shell.execute_reply": "2022-12-22T12:06:29.210654Z"
        },
        "trusted": true,
        "id": "K2TnthTwsXZl"
      },
      "outputs": [],
      "execution_count": null
    },
    {
      "cell_type": "markdown",
      "source": [
        "# Implementando el modelo"
      ],
      "metadata": {
        "id": "KEyXCHs-sXZl"
      }
    },
    {
      "cell_type": "code",
      "source": [
        "import statsmodels.api as sm\n",
        "logit_model=sm.Logit(y,X)\n",
        "result=logit_model.fit()\n",
        "print(result.summary2())"
      ],
      "metadata": {
        "execution": {
          "iopub.status.busy": "2022-12-22T12:06:32.830213Z",
          "iopub.execute_input": "2022-12-22T12:06:32.830615Z",
          "iopub.status.idle": "2022-12-22T12:06:33.783813Z",
          "shell.execute_reply.started": "2022-12-22T12:06:32.830583Z",
          "shell.execute_reply": "2022-12-22T12:06:33.782561Z"
        },
        "trusted": true,
        "id": "Dj-4Xq_wsXZl"
      },
      "outputs": [],
      "execution_count": null
    },
    {
      "cell_type": "markdown",
      "source": [
        "De esta tabla nos fijamos en los p-valores, que son todos menores de 0.05, excepto 4 variables, que tenemos que retirar."
      ],
      "metadata": {
        "id": "BOjgZdAesXZl"
      }
    },
    {
      "cell_type": "code",
      "source": [
        "X2=X.drop(['marital_unknown','housing_no','housing_unknown','loan_unknown'],\n",
        "                         axis  = 1,\n",
        "                         inplace = False)"
      ],
      "metadata": {
        "execution": {
          "iopub.status.busy": "2022-12-22T12:16:59.273889Z",
          "iopub.execute_input": "2022-12-22T12:16:59.274352Z",
          "iopub.status.idle": "2022-12-22T12:16:59.281349Z",
          "shell.execute_reply.started": "2022-12-22T12:16:59.274316Z",
          "shell.execute_reply": "2022-12-22T12:16:59.280228Z"
        },
        "trusted": true,
        "id": "kDbQ4UhgsXZm"
      },
      "outputs": [],
      "execution_count": null
    },
    {
      "cell_type": "code",
      "source": [
        "logit_model=sm.Logit(y,X2)\n",
        "result=logit_model.fit()\n",
        "print(result.summary2())"
      ],
      "metadata": {
        "execution": {
          "iopub.status.busy": "2022-12-22T12:17:38.401829Z",
          "iopub.execute_input": "2022-12-22T12:17:38.402367Z",
          "iopub.status.idle": "2022-12-22T12:17:38.889638Z",
          "shell.execute_reply.started": "2022-12-22T12:17:38.402314Z",
          "shell.execute_reply": "2022-12-22T12:17:38.888346Z"
        },
        "trusted": true,
        "id": "NxQzGjhjsXZm"
      },
      "outputs": [],
      "execution_count": null
    },
    {
      "cell_type": "markdown",
      "source": [
        "## Ajuste del modelo de Regresion Logistica"
      ],
      "metadata": {
        "id": "A8csyEsQsXZm"
      }
    },
    {
      "cell_type": "code",
      "source": [
        "from sklearn import metrics\n",
        "\n",
        "X_train, X_test, y_train, y_test = train_test_split(X2, y, test_size=0.3, random_state=0)\n",
        "logreg = LogisticRegression()\n",
        "logreg.fit(X_train, y_train)"
      ],
      "metadata": {
        "execution": {
          "iopub.status.busy": "2022-12-22T12:20:28.467777Z",
          "iopub.execute_input": "2022-12-22T12:20:28.468218Z",
          "iopub.status.idle": "2022-12-22T12:20:28.688029Z",
          "shell.execute_reply.started": "2022-12-22T12:20:28.46818Z",
          "shell.execute_reply": "2022-12-22T12:20:28.686817Z"
        },
        "trusted": true,
        "id": "PoJE5BcQsXZm"
      },
      "outputs": [],
      "execution_count": null
    },
    {
      "cell_type": "markdown",
      "source": [
        "No ha funcionado, se queda en blanco, y no se porqué."
      ],
      "metadata": {
        "id": "c2SL8lOTsXZm"
      }
    },
    {
      "cell_type": "markdown",
      "source": [
        "Prediciendo los resultados del test y calculando la precisión"
      ],
      "metadata": {
        "id": "zerAJjfmsXZm"
      }
    },
    {
      "cell_type": "code",
      "source": [
        "y_pred = logreg.predict(X_test)\n",
        "print('Accuracy of logistic regression classifier on test set: {:.2f}'.format(logreg.score(X_test, y_test)))"
      ],
      "metadata": {
        "execution": {
          "iopub.status.busy": "2022-12-22T12:22:06.592966Z",
          "iopub.execute_input": "2022-12-22T12:22:06.593367Z",
          "iopub.status.idle": "2022-12-22T12:22:06.608587Z",
          "shell.execute_reply.started": "2022-12-22T12:22:06.593335Z",
          "shell.execute_reply": "2022-12-22T12:22:06.607602Z"
        },
        "trusted": true,
        "id": "67abtmW7sXZm"
      },
      "outputs": [],
      "execution_count": null
    },
    {
      "cell_type": "markdown",
      "source": [
        "## Matriz de confusión"
      ],
      "metadata": {
        "id": "g1i7zzxxsXZm"
      }
    },
    {
      "cell_type": "code",
      "source": [
        "from sklearn.metrics import confusion_matrix\n",
        "confusion_matrix = confusion_matrix(y_test, y_pred)\n",
        "print(confusion_matrix)"
      ],
      "metadata": {
        "execution": {
          "iopub.status.busy": "2022-12-22T12:22:51.302564Z",
          "iopub.execute_input": "2022-12-22T12:22:51.302988Z",
          "iopub.status.idle": "2022-12-22T12:22:51.314216Z",
          "shell.execute_reply.started": "2022-12-22T12:22:51.302956Z",
          "shell.execute_reply": "2022-12-22T12:22:51.312845Z"
        },
        "trusted": true,
        "id": "vyfrPGBQsXZn"
      },
      "outputs": [],
      "execution_count": null
    },
    {
      "cell_type": "markdown",
      "source": [
        "Este resultado se interpreta como que tenemos 7648+6467 predicciones correctas, frente a 1208+18 prediciones incorrectas.\n",
        "# Estimar la precisión y otros.\n",
        "* La precision se calcula a partir del número de verdaderos positivos (tp) y del número de falsos positivos (fp). Intuituvamente, es la habilidad del clasificador de no etiquetar una muestra como positiva si es negativa. La formula es numero de casos verdaderos positivos entre el total de casos.\n",
        "* El Recall es la habilidad del clasificador en encontrar todas las muestras positivas. El calculo es similar, pero entre el numero de tp y falsos negativos.\n",
        "* El F-beta score va de 1 (mejor valor) a 0 (peor valor). Es una media ponderada de precision y recall. El factor de ponderacion es beta aplicado al recall. No se para qué sirve.\n",
        "* El soporte es el número de ocurrencias de cada caso en el conjunto de datos y_test"
      ],
      "metadata": {
        "id": "qRw3gPQnsXZn"
      }
    },
    {
      "cell_type": "code",
      "source": [
        "from sklearn.metrics import classification_report\n",
        "print(classification_report(y_test, y_pred))"
      ],
      "metadata": {
        "execution": {
          "iopub.status.busy": "2022-12-22T12:33:39.162518Z",
          "iopub.execute_input": "2022-12-22T12:33:39.162906Z",
          "iopub.status.idle": "2022-12-22T12:33:39.200583Z",
          "shell.execute_reply.started": "2022-12-22T12:33:39.162875Z",
          "shell.execute_reply": "2022-12-22T12:33:39.199556Z"
        },
        "trusted": true,
        "id": "pH4BT7ESsXZn"
      },
      "outputs": [],
      "execution_count": null
    },
    {
      "cell_type": "markdown",
      "source": [
        "Interpretación: De todo el conjunto de pruebas, el 93% del depósito a plazo promocionado fue el depósito a plazo que les gustó a los clientes. De todo el conjunto de pruebas, el 93% de los depósitos a plazo preferidos del cliente fueron promovidos."
      ],
      "metadata": {
        "id": "eAdj-mF9sXZn"
      }
    },
    {
      "cell_type": "markdown",
      "source": [
        "# ROC Curve"
      ],
      "metadata": {
        "id": "3eDH0LYUsXZn"
      }
    },
    {
      "cell_type": "code",
      "source": [
        "from sklearn.metrics import roc_auc_score\n",
        "from sklearn.metrics import roc_curve\n",
        "logit_roc_auc = roc_auc_score(y_test, logreg.predict(X_test))\n",
        "fpr, tpr, thresholds = roc_curve(y_test, logreg.predict_proba(X_test)[:,1])\n",
        "plt.figure()\n",
        "plt.plot(fpr, tpr, label='Logistic Regression (area = %0.2f)' % logit_roc_auc)\n",
        "plt.plot([0, 1], [0, 1],'r--')\n",
        "plt.xlim([0.0, 1.0])\n",
        "plt.ylim([0.0, 1.05])\n",
        "plt.xlabel('False Positive Rate')\n",
        "plt.ylabel('True Positive Rate')\n",
        "plt.title('Receiver operating characteristic')\n",
        "plt.legend(loc=\"lower right\")\n",
        "plt.savefig('Log_ROC')\n",
        "plt.show()"
      ],
      "metadata": {
        "execution": {
          "iopub.status.busy": "2022-12-22T12:36:20.843582Z",
          "iopub.execute_input": "2022-12-22T12:36:20.844023Z",
          "iopub.status.idle": "2022-12-22T12:36:21.200982Z",
          "shell.execute_reply.started": "2022-12-22T12:36:20.843985Z",
          "shell.execute_reply": "2022-12-22T12:36:21.199747Z"
        },
        "trusted": true,
        "id": "rCGyfOT9sXZn"
      },
      "outputs": [],
      "execution_count": null
    },
    {
      "cell_type": "markdown",
      "source": [
        "La curva de característica operativa del receptor (ROC) es otra herramienta común utilizada con clasificadores binarios. <br>\n",
        "La línea punteada representa la curva ROC de un clasificador puramente aleatorio; Un buen clasificador se mantiene lo más lejos posible de esa línea (hacia la esquina superior izquierda)."
      ],
      "metadata": {
        "id": "UNrTeykhsXZo"
      }
    }
  ]
}