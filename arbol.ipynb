{
  "nbformat": 4,
  "nbformat_minor": 0,
  "metadata": {
    "colab": {
      "provenance": [],
      "authorship_tag": "ABX9TyPjLsixLZK8Fp2D6jtYnEf3",
      "include_colab_link": true
    },
    "kernelspec": {
      "name": "python3",
      "display_name": "Python 3"
    },
    "language_info": {
      "name": "python"
    }
  },
  "cells": [
    {
      "cell_type": "markdown",
      "metadata": {
        "id": "view-in-github",
        "colab_type": "text"
      },
      "source": [
        "<a href=\"https://colab.research.google.com/github/lageniaestela/12demayo/blob/master/arbol.ipynb\" target=\"_parent\"><img src=\"https://colab.research.google.com/assets/colab-badge.svg\" alt=\"Open In Colab\"/></a>"
      ]
    },
    {
      "cell_type": "code",
      "execution_count": null,
      "metadata": {
        "colab": {
          "base_uri": "https://localhost:8080/"
        },
        "id": "st_-R9jUBXGU",
        "outputId": "95c44664-eb7e-45cb-e4d3-b7460abefd0d"
      },
      "outputs": [
        {
          "output_type": "stream",
          "name": "stdout",
          "text": [
            "Requirement already satisfied: nltk in /usr/local/lib/python3.11/dist-packages (3.9.1)\n",
            "Requirement already satisfied: click in /usr/local/lib/python3.11/dist-packages (from nltk) (8.1.8)\n",
            "Requirement already satisfied: joblib in /usr/local/lib/python3.11/dist-packages (from nltk) (1.4.2)\n",
            "Requirement already satisfied: regex>=2021.8.3 in /usr/local/lib/python3.11/dist-packages (from nltk) (2024.11.6)\n",
            "Requirement already satisfied: tqdm in /usr/local/lib/python3.11/dist-packages (from nltk) (4.67.1)\n"
          ]
        }
      ],
      "source": [
        "!pip install nltk\n"
      ]
    },
    {
      "cell_type": "code",
      "source": [
        "import nltk\n",
        "nltk.download('punkt')\n",
        "from nltk.tree import *\n",
        "dp1 = Tree('dp', [Tree('d', ['the']), Tree('np', ['dog'])])\n",
        "dp2 = Tree('dp', [Tree('d', ['the']), Tree('np', ['cat'])])\n",
        "vp = Tree('vp', [Tree('v', ['chased']), dp2])\n",
        "tree = Tree('s', [dp1, vp])\n",
        "print(tree)\n",
        "print(tree[1,1,1,0])\n",
        "tree.pretty_print()"
      ],
      "metadata": {
        "colab": {
          "base_uri": "https://localhost:8080/"
        },
        "id": "vJzEm_ouBeuz",
        "outputId": "9eef3edb-2f34-45df-857b-533ab51f2e21"
      },
      "execution_count": null,
      "outputs": [
        {
          "output_type": "stream",
          "name": "stdout",
          "text": [
            "(s (dp (d the) (np dog)) (vp (v chased) (dp (d the) (np cat))))\n",
            "cat\n",
            "              s               \n",
            "      ________|_____           \n",
            "     |              vp        \n",
            "     |         _____|___       \n",
            "     dp       |         dp    \n",
            "  ___|___     |      ___|___   \n",
            " d       np   v     d       np\n",
            " |       |    |     |       |  \n",
            "the     dog chased the     cat\n",
            "\n"
          ]
        },
        {
          "output_type": "stream",
          "name": "stderr",
          "text": [
            "[nltk_data] Downloading package punkt to /root/nltk_data...\n",
            "[nltk_data]   Package punkt is already up-to-date!\n"
          ]
        }
      ]
    }
  ]
}