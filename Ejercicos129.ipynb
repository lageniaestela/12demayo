{
  "nbformat": 4,
  "nbformat_minor": 0,
  "metadata": {
    "colab": {
      "provenance": [],
      "authorship_tag": "ABX9TyPMboAr5kqwrP4aAnbQ8EVR",
      "include_colab_link": true
    },
    "kernelspec": {
      "name": "python3",
      "display_name": "Python 3"
    },
    "language_info": {
      "name": "python"
    }
  },
  "cells": [
    {
      "cell_type": "markdown",
      "metadata": {
        "id": "view-in-github",
        "colab_type": "text"
      },
      "source": [
        "<a href=\"https://colab.research.google.com/github/lageniaestela/12demayo/blob/master/Ejercicos129.ipynb\" target=\"_parent\"><img src=\"https://colab.research.google.com/assets/colab-badge.svg\" alt=\"Open In Colab\"/></a>"
      ]
    },
    {
      "cell_type": "code",
      "execution_count": 4,
      "metadata": {
        "colab": {
          "base_uri": "https://localhost:8080/"
        },
        "id": "-xXm9abkrxR8",
        "outputId": "b7f96425-f100-4944-8194-04844b7ffee5"
      },
      "outputs": [
        {
          "output_type": "stream",
          "name": "stdout",
          "text": [
            "Requirement already satisfied: pydub in /usr/local/lib/python3.12/dist-packages (0.25.1)\n",
            "Requirement already satisfied: SpeechRecognition in /usr/local/lib/python3.12/dist-packages (3.14.3)\n",
            "Requirement already satisfied: typing-extensions in /usr/local/lib/python3.12/dist-packages (from SpeechRecognition) (4.15.0)\n"
          ]
        }
      ],
      "source": [
        " !pip install pydub SpeechRecognition"
      ]
    },
    {
      "cell_type": "code",
      "source": [
        "import os, speech_recognition as sr\n",
        "from pydub import AudioSegment\n",
        "\n",
        "def get_large_audio_transcription(path, minutes=5):\n",
        "    sound = AudioSegment.from_file(path)\n",
        "    chunk_ms = 1000 * 60 * minutes\n",
        "    chunks = [sound[i:i+chunk_ms] for i in range(0, len(sound), chunk_ms)]\n",
        "    os.makedirs(\"chunks\", exist_ok=True)\n",
        "    r, text_total = sr.Recognizer(), \"\"\n",
        "\n",
        "    for i, chunk in enumerate(chunks, 1):\n",
        "        fname = f\"chunks/chunk{i}.wav\"\n",
        "        chunk.export(fname, format=\"wav\")\n",
        "        with sr.AudioFile(fname) as source:\n",
        "            audio = r.record(source)\n",
        "        try:\n",
        "            text = r.recognize_google(audio, language=\"es-ES\")\n",
        "            print(f\"[OK] chunk{i}: {text}\")\n",
        "            text_total += text + \". \"\n",
        "        except:\n",
        "            print(f\"[ERROR] chunk{i}\")\n",
        "    return text_total"
      ],
      "metadata": {
        "id": "BfwJ2b_9sDwZ"
      },
      "execution_count": 5,
      "outputs": []
    },
    {
      "cell_type": "code",
      "source": [
        "texto = get_large_audio_transcription(\"/content/Programa NO ME OLVIDES.mp3\", minutes=2)\n",
        "print(\"\\nTranscripción completa:\\n\", texto)\n"
      ],
      "metadata": {
        "colab": {
          "base_uri": "https://localhost:8080/"
        },
        "id": "W1znweeGseYx",
        "outputId": "e5d67703-4171-4876-8020-778ca9f84694"
      },
      "execution_count": 6,
      "outputs": [
        {
          "output_type": "stream",
          "name": "stdout",
          "text": [
            "[OK] chunk1: giran en mi mente historias que de ti aprendí atención los sábados a las 20 horas Radio Oasis infusión te trae no me olvides el programa de Estela Escobar coraje no me olvides es una invitación a recordar a través de la música los momentos especiales de la vida de la escuela te acompañará en un viaje musical a través de la historia descubriendo como las canciones se conectan con la historia familiar y evocan recuerdos inolvidables no me olvides el estilo Escobar corai solo por Radio Oasis institución entiendo porque estoy aquí oh oh oh oh ah ah lo que te hayan puesto aún se puede sentir veo en tus ojos mi reflejo algo me quieres decir solo no me has dejado aunque un tiempo me perdí algo tan inesperado que me ha llevado a ti nunca pensé que ahora encontrar esa parte de mí ahora entiendo porque estoy\n",
            "[OK] chunk2: y Dios oh oh oh oh oh oh oh oh oh oh oh oh oh oh oh oh oh oh oh oh oh oh oh oh oh oh oh oh oh oh oh oh oh oh oh oh oh oh oh oh oh oh oh oh oh oh oh oh oh oh oh oh oh oh oh oh oh oh oh oh oh tus recuerdos siguen vivos ah oh oh oh oh oh oh oh oh no se puede sobrevivas ah ah ah ah ah ah ah ah nunca pensé que ahora encontrar esa parte de mí ahora entiendo porque estoy aquí yo no no no no no ah no no no no no no no no no no no la mejor emisora online en vivo\n",
            "\n",
            "Transcripción completa:\n",
            " giran en mi mente historias que de ti aprendí atención los sábados a las 20 horas Radio Oasis infusión te trae no me olvides el programa de Estela Escobar coraje no me olvides es una invitación a recordar a través de la música los momentos especiales de la vida de la escuela te acompañará en un viaje musical a través de la historia descubriendo como las canciones se conectan con la historia familiar y evocan recuerdos inolvidables no me olvides el estilo Escobar corai solo por Radio Oasis institución entiendo porque estoy aquí oh oh oh oh ah ah lo que te hayan puesto aún se puede sentir veo en tus ojos mi reflejo algo me quieres decir solo no me has dejado aunque un tiempo me perdí algo tan inesperado que me ha llevado a ti nunca pensé que ahora encontrar esa parte de mí ahora entiendo porque estoy. y Dios oh oh oh oh oh oh oh oh oh oh oh oh oh oh oh oh oh oh oh oh oh oh oh oh oh oh oh oh oh oh oh oh oh oh oh oh oh oh oh oh oh oh oh oh oh oh oh oh oh oh oh oh oh oh oh oh oh oh oh oh oh tus recuerdos siguen vivos ah oh oh oh oh oh oh oh oh no se puede sobrevivas ah ah ah ah ah ah ah ah nunca pensé que ahora encontrar esa parte de mí ahora entiendo porque estoy aquí yo no no no no no ah no no no no no no no no no no no la mejor emisora online en vivo. \n"
          ]
        }
      ]
    },
    {
      "cell_type": "code",
      "source": [
        "\n",
        "from google.colab import files\n",
        "uploaded = files.upload()   # aparecerá un botón para elegir el mp3\n",
        "\n",
        "# Guardamos el nombre del archivo subido\n",
        "import os\n",
        "audio_file = list(uploaded.keys())[0]\n",
        "print(\"Archivo cargado:\", audio_file)\n",
        "\n",
        "# =======================\n",
        "# 3) Transcribir audio\n",
        "# =======================\n",
        "import speech_recognition as sr\n",
        "from pydub import AudioSegment\n",
        "\n",
        "def transcribe_audio(path):\n",
        "    r = sr.Recognizer()\n",
        "    # convertir a wav (SpeechRecognition no maneja mp3 directo)\n",
        "    sound = AudioSegment.from_file(path, format=\"mp3\")\n",
        "    sound.export(\"temp.wav\", format=\"wav\")\n",
        "\n",
        "    with sr.AudioFile(\"temp.wav\") as source:\n",
        "        audio = r.record(source)\n",
        "    return r.recognize_google(audio, language=\"es-ES\")  # español\n",
        "\n",
        "texto = transcribe_audio(audio_file)\n",
        "print(\"\\n📝 Transcripción:\\n\")\n",
        "print(texto)\n"
      ],
      "metadata": {
        "colab": {
          "base_uri": "https://localhost:8080/",
          "height": 200
        },
        "id": "uVRqj5dPw_M9",
        "outputId": "a600a591-211a-475b-f84c-efce1af41937"
      },
      "execution_count": 7,
      "outputs": [
        {
          "output_type": "display_data",
          "data": {
            "text/plain": [
              "<IPython.core.display.HTML object>"
            ],
            "text/html": [
              "\n",
              "     <input type=\"file\" id=\"files-91a127d7-f323-46e8-85d6-f7da044e34e4\" name=\"files[]\" multiple disabled\n",
              "        style=\"border:none\" />\n",
              "     <output id=\"result-91a127d7-f323-46e8-85d6-f7da044e34e4\">\n",
              "      Upload widget is only available when the cell has been executed in the\n",
              "      current browser session. Please rerun this cell to enable.\n",
              "      </output>\n",
              "      <script>// Copyright 2017 Google LLC\n",
              "//\n",
              "// Licensed under the Apache License, Version 2.0 (the \"License\");\n",
              "// you may not use this file except in compliance with the License.\n",
              "// You may obtain a copy of the License at\n",
              "//\n",
              "//      http://www.apache.org/licenses/LICENSE-2.0\n",
              "//\n",
              "// Unless required by applicable law or agreed to in writing, software\n",
              "// distributed under the License is distributed on an \"AS IS\" BASIS,\n",
              "// WITHOUT WARRANTIES OR CONDITIONS OF ANY KIND, either express or implied.\n",
              "// See the License for the specific language governing permissions and\n",
              "// limitations under the License.\n",
              "\n",
              "/**\n",
              " * @fileoverview Helpers for google.colab Python module.\n",
              " */\n",
              "(function(scope) {\n",
              "function span(text, styleAttributes = {}) {\n",
              "  const element = document.createElement('span');\n",
              "  element.textContent = text;\n",
              "  for (const key of Object.keys(styleAttributes)) {\n",
              "    element.style[key] = styleAttributes[key];\n",
              "  }\n",
              "  return element;\n",
              "}\n",
              "\n",
              "// Max number of bytes which will be uploaded at a time.\n",
              "const MAX_PAYLOAD_SIZE = 100 * 1024;\n",
              "\n",
              "function _uploadFiles(inputId, outputId) {\n",
              "  const steps = uploadFilesStep(inputId, outputId);\n",
              "  const outputElement = document.getElementById(outputId);\n",
              "  // Cache steps on the outputElement to make it available for the next call\n",
              "  // to uploadFilesContinue from Python.\n",
              "  outputElement.steps = steps;\n",
              "\n",
              "  return _uploadFilesContinue(outputId);\n",
              "}\n",
              "\n",
              "// This is roughly an async generator (not supported in the browser yet),\n",
              "// where there are multiple asynchronous steps and the Python side is going\n",
              "// to poll for completion of each step.\n",
              "// This uses a Promise to block the python side on completion of each step,\n",
              "// then passes the result of the previous step as the input to the next step.\n",
              "function _uploadFilesContinue(outputId) {\n",
              "  const outputElement = document.getElementById(outputId);\n",
              "  const steps = outputElement.steps;\n",
              "\n",
              "  const next = steps.next(outputElement.lastPromiseValue);\n",
              "  return Promise.resolve(next.value.promise).then((value) => {\n",
              "    // Cache the last promise value to make it available to the next\n",
              "    // step of the generator.\n",
              "    outputElement.lastPromiseValue = value;\n",
              "    return next.value.response;\n",
              "  });\n",
              "}\n",
              "\n",
              "/**\n",
              " * Generator function which is called between each async step of the upload\n",
              " * process.\n",
              " * @param {string} inputId Element ID of the input file picker element.\n",
              " * @param {string} outputId Element ID of the output display.\n",
              " * @return {!Iterable<!Object>} Iterable of next steps.\n",
              " */\n",
              "function* uploadFilesStep(inputId, outputId) {\n",
              "  const inputElement = document.getElementById(inputId);\n",
              "  inputElement.disabled = false;\n",
              "\n",
              "  const outputElement = document.getElementById(outputId);\n",
              "  outputElement.innerHTML = '';\n",
              "\n",
              "  const pickedPromise = new Promise((resolve) => {\n",
              "    inputElement.addEventListener('change', (e) => {\n",
              "      resolve(e.target.files);\n",
              "    });\n",
              "  });\n",
              "\n",
              "  const cancel = document.createElement('button');\n",
              "  inputElement.parentElement.appendChild(cancel);\n",
              "  cancel.textContent = 'Cancel upload';\n",
              "  const cancelPromise = new Promise((resolve) => {\n",
              "    cancel.onclick = () => {\n",
              "      resolve(null);\n",
              "    };\n",
              "  });\n",
              "\n",
              "  // Wait for the user to pick the files.\n",
              "  const files = yield {\n",
              "    promise: Promise.race([pickedPromise, cancelPromise]),\n",
              "    response: {\n",
              "      action: 'starting',\n",
              "    }\n",
              "  };\n",
              "\n",
              "  cancel.remove();\n",
              "\n",
              "  // Disable the input element since further picks are not allowed.\n",
              "  inputElement.disabled = true;\n",
              "\n",
              "  if (!files) {\n",
              "    return {\n",
              "      response: {\n",
              "        action: 'complete',\n",
              "      }\n",
              "    };\n",
              "  }\n",
              "\n",
              "  for (const file of files) {\n",
              "    const li = document.createElement('li');\n",
              "    li.append(span(file.name, {fontWeight: 'bold'}));\n",
              "    li.append(span(\n",
              "        `(${file.type || 'n/a'}) - ${file.size} bytes, ` +\n",
              "        `last modified: ${\n",
              "            file.lastModifiedDate ? file.lastModifiedDate.toLocaleDateString() :\n",
              "                                    'n/a'} - `));\n",
              "    const percent = span('0% done');\n",
              "    li.appendChild(percent);\n",
              "\n",
              "    outputElement.appendChild(li);\n",
              "\n",
              "    const fileDataPromise = new Promise((resolve) => {\n",
              "      const reader = new FileReader();\n",
              "      reader.onload = (e) => {\n",
              "        resolve(e.target.result);\n",
              "      };\n",
              "      reader.readAsArrayBuffer(file);\n",
              "    });\n",
              "    // Wait for the data to be ready.\n",
              "    let fileData = yield {\n",
              "      promise: fileDataPromise,\n",
              "      response: {\n",
              "        action: 'continue',\n",
              "      }\n",
              "    };\n",
              "\n",
              "    // Use a chunked sending to avoid message size limits. See b/62115660.\n",
              "    let position = 0;\n",
              "    do {\n",
              "      const length = Math.min(fileData.byteLength - position, MAX_PAYLOAD_SIZE);\n",
              "      const chunk = new Uint8Array(fileData, position, length);\n",
              "      position += length;\n",
              "\n",
              "      const base64 = btoa(String.fromCharCode.apply(null, chunk));\n",
              "      yield {\n",
              "        response: {\n",
              "          action: 'append',\n",
              "          file: file.name,\n",
              "          data: base64,\n",
              "        },\n",
              "      };\n",
              "\n",
              "      let percentDone = fileData.byteLength === 0 ?\n",
              "          100 :\n",
              "          Math.round((position / fileData.byteLength) * 100);\n",
              "      percent.textContent = `${percentDone}% done`;\n",
              "\n",
              "    } while (position < fileData.byteLength);\n",
              "  }\n",
              "\n",
              "  // All done.\n",
              "  yield {\n",
              "    response: {\n",
              "      action: 'complete',\n",
              "    }\n",
              "  };\n",
              "}\n",
              "\n",
              "scope.google = scope.google || {};\n",
              "scope.google.colab = scope.google.colab || {};\n",
              "scope.google.colab._files = {\n",
              "  _uploadFiles,\n",
              "  _uploadFilesContinue,\n",
              "};\n",
              "})(self);\n",
              "</script> "
            ]
          },
          "metadata": {}
        },
        {
          "output_type": "stream",
          "name": "stdout",
          "text": [
            "Saving MLP-Mixer_ An all-MLP Architecture for Vision.mp3 to MLP-Mixer_ An all-MLP Architecture for Vision.mp3\n",
            "Archivo cargado: MLP-Mixer_ An all-MLP Architecture for Vision.mp3\n",
            "\n",
            "📝 Transcripción:\n",
            "\n",
            "here's of paper and all Emily arquitecture for visión for computer visiten maquines exclusive no no works Forn en Morrison attention networks like the vision Transformer gameplays wow this paper industry for building good models en el tren not the Emily makes personalized\n"
          ]
        }
      ]
    }
  ]
}